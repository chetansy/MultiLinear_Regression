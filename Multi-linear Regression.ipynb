{
 "cells": [
  {
   "cell_type": "code",
   "execution_count": 2,
   "id": "22ed47dd",
   "metadata": {},
   "outputs": [],
   "source": [
    "import pandas as pd"
   ]
  },
  {
   "cell_type": "code",
   "execution_count": 3,
   "id": "651aa832",
   "metadata": {},
   "outputs": [],
   "source": [
    "import numpy as np"
   ]
  },
  {
   "cell_type": "code",
   "execution_count": 4,
   "id": "b9435177",
   "metadata": {},
   "outputs": [],
   "source": [
    "import matplotlib.pyplot as plt"
   ]
  },
  {
   "cell_type": "code",
   "execution_count": 5,
   "id": "fd44ee07",
   "metadata": {},
   "outputs": [],
   "source": [
    "car = pd.read_csv(\"C:\\\\Users\\\\Chetan Yewale\\\\Downloads\\\\Cars.csv\")"
   ]
  },
  {
   "cell_type": "code",
   "execution_count": 6,
   "id": "1ab0e4ac",
   "metadata": {},
   "outputs": [
    {
     "data": {
      "text/plain": [
       "Index(['HP', 'MPG', 'VOL', 'SP', 'WT'], dtype='object')"
      ]
     },
     "execution_count": 6,
     "metadata": {},
     "output_type": "execute_result"
    }
   ],
   "source": [
    "car.columns"
   ]
  },
  {
   "cell_type": "code",
   "execution_count": 7,
   "id": "6883dd87",
   "metadata": {},
   "outputs": [
    {
     "data": {
      "text/plain": [
       "pandas.core.frame.DataFrame"
      ]
     },
     "execution_count": 7,
     "metadata": {},
     "output_type": "execute_result"
    }
   ],
   "source": [
    "type(car)"
   ]
  },
  {
   "cell_type": "code",
   "execution_count": 8,
   "id": "ffc3b2f4",
   "metadata": {},
   "outputs": [
    {
     "data": {
      "text/html": [
       "<div>\n",
       "<style scoped>\n",
       "    .dataframe tbody tr th:only-of-type {\n",
       "        vertical-align: middle;\n",
       "    }\n",
       "\n",
       "    .dataframe tbody tr th {\n",
       "        vertical-align: top;\n",
       "    }\n",
       "\n",
       "    .dataframe thead th {\n",
       "        text-align: right;\n",
       "    }\n",
       "</style>\n",
       "<table border=\"1\" class=\"dataframe\">\n",
       "  <thead>\n",
       "    <tr style=\"text-align: right;\">\n",
       "      <th></th>\n",
       "      <th>HP</th>\n",
       "      <th>MPG</th>\n",
       "      <th>VOL</th>\n",
       "      <th>SP</th>\n",
       "      <th>WT</th>\n",
       "    </tr>\n",
       "  </thead>\n",
       "  <tbody>\n",
       "    <tr>\n",
       "      <th>0</th>\n",
       "      <td>49</td>\n",
       "      <td>53.700681</td>\n",
       "      <td>89</td>\n",
       "      <td>104.185353</td>\n",
       "      <td>28.762059</td>\n",
       "    </tr>\n",
       "    <tr>\n",
       "      <th>1</th>\n",
       "      <td>55</td>\n",
       "      <td>50.013401</td>\n",
       "      <td>92</td>\n",
       "      <td>105.461264</td>\n",
       "      <td>30.466833</td>\n",
       "    </tr>\n",
       "    <tr>\n",
       "      <th>2</th>\n",
       "      <td>55</td>\n",
       "      <td>50.013401</td>\n",
       "      <td>92</td>\n",
       "      <td>105.461264</td>\n",
       "      <td>30.193597</td>\n",
       "    </tr>\n",
       "    <tr>\n",
       "      <th>3</th>\n",
       "      <td>70</td>\n",
       "      <td>45.696322</td>\n",
       "      <td>92</td>\n",
       "      <td>113.461264</td>\n",
       "      <td>30.632114</td>\n",
       "    </tr>\n",
       "    <tr>\n",
       "      <th>4</th>\n",
       "      <td>53</td>\n",
       "      <td>50.504232</td>\n",
       "      <td>92</td>\n",
       "      <td>104.461264</td>\n",
       "      <td>29.889149</td>\n",
       "    </tr>\n",
       "    <tr>\n",
       "      <th>5</th>\n",
       "      <td>70</td>\n",
       "      <td>45.696322</td>\n",
       "      <td>89</td>\n",
       "      <td>113.185353</td>\n",
       "      <td>29.591768</td>\n",
       "    </tr>\n",
       "    <tr>\n",
       "      <th>6</th>\n",
       "      <td>55</td>\n",
       "      <td>50.013401</td>\n",
       "      <td>92</td>\n",
       "      <td>105.461264</td>\n",
       "      <td>30.308480</td>\n",
       "    </tr>\n",
       "    <tr>\n",
       "      <th>7</th>\n",
       "      <td>62</td>\n",
       "      <td>46.716554</td>\n",
       "      <td>50</td>\n",
       "      <td>102.598513</td>\n",
       "      <td>15.847758</td>\n",
       "    </tr>\n",
       "    <tr>\n",
       "      <th>8</th>\n",
       "      <td>62</td>\n",
       "      <td>46.716554</td>\n",
       "      <td>50</td>\n",
       "      <td>102.598513</td>\n",
       "      <td>16.359484</td>\n",
       "    </tr>\n",
       "    <tr>\n",
       "      <th>9</th>\n",
       "      <td>80</td>\n",
       "      <td>42.299078</td>\n",
       "      <td>94</td>\n",
       "      <td>115.645204</td>\n",
       "      <td>30.920154</td>\n",
       "    </tr>\n",
       "  </tbody>\n",
       "</table>\n",
       "</div>"
      ],
      "text/plain": [
       "   HP        MPG  VOL          SP         WT\n",
       "0  49  53.700681   89  104.185353  28.762059\n",
       "1  55  50.013401   92  105.461264  30.466833\n",
       "2  55  50.013401   92  105.461264  30.193597\n",
       "3  70  45.696322   92  113.461264  30.632114\n",
       "4  53  50.504232   92  104.461264  29.889149\n",
       "5  70  45.696322   89  113.185353  29.591768\n",
       "6  55  50.013401   92  105.461264  30.308480\n",
       "7  62  46.716554   50  102.598513  15.847758\n",
       "8  62  46.716554   50  102.598513  16.359484\n",
       "9  80  42.299078   94  115.645204  30.920154"
      ]
     },
     "execution_count": 8,
     "metadata": {},
     "output_type": "execute_result"
    }
   ],
   "source": [
    "car.head(10)"
   ]
  },
  {
   "cell_type": "code",
   "execution_count": 9,
   "id": "f33b43a2",
   "metadata": {},
   "outputs": [],
   "source": [
    " ### correlation Matrix"
   ]
  },
  {
   "cell_type": "code",
   "execution_count": 10,
   "id": "022d5ec4",
   "metadata": {},
   "outputs": [
    {
     "data": {
      "text/html": [
       "<div>\n",
       "<style scoped>\n",
       "    .dataframe tbody tr th:only-of-type {\n",
       "        vertical-align: middle;\n",
       "    }\n",
       "\n",
       "    .dataframe tbody tr th {\n",
       "        vertical-align: top;\n",
       "    }\n",
       "\n",
       "    .dataframe thead th {\n",
       "        text-align: right;\n",
       "    }\n",
       "</style>\n",
       "<table border=\"1\" class=\"dataframe\">\n",
       "  <thead>\n",
       "    <tr style=\"text-align: right;\">\n",
       "      <th></th>\n",
       "      <th>HP</th>\n",
       "      <th>MPG</th>\n",
       "      <th>VOL</th>\n",
       "      <th>SP</th>\n",
       "      <th>WT</th>\n",
       "    </tr>\n",
       "  </thead>\n",
       "  <tbody>\n",
       "    <tr>\n",
       "      <th>HP</th>\n",
       "      <td>1.000000</td>\n",
       "      <td>-0.725038</td>\n",
       "      <td>0.077459</td>\n",
       "      <td>0.973848</td>\n",
       "      <td>0.076513</td>\n",
       "    </tr>\n",
       "    <tr>\n",
       "      <th>MPG</th>\n",
       "      <td>-0.725038</td>\n",
       "      <td>1.000000</td>\n",
       "      <td>-0.529057</td>\n",
       "      <td>-0.687125</td>\n",
       "      <td>-0.526759</td>\n",
       "    </tr>\n",
       "    <tr>\n",
       "      <th>VOL</th>\n",
       "      <td>0.077459</td>\n",
       "      <td>-0.529057</td>\n",
       "      <td>1.000000</td>\n",
       "      <td>0.102170</td>\n",
       "      <td>0.999203</td>\n",
       "    </tr>\n",
       "    <tr>\n",
       "      <th>SP</th>\n",
       "      <td>0.973848</td>\n",
       "      <td>-0.687125</td>\n",
       "      <td>0.102170</td>\n",
       "      <td>1.000000</td>\n",
       "      <td>0.102439</td>\n",
       "    </tr>\n",
       "    <tr>\n",
       "      <th>WT</th>\n",
       "      <td>0.076513</td>\n",
       "      <td>-0.526759</td>\n",
       "      <td>0.999203</td>\n",
       "      <td>0.102439</td>\n",
       "      <td>1.000000</td>\n",
       "    </tr>\n",
       "  </tbody>\n",
       "</table>\n",
       "</div>"
      ],
      "text/plain": [
       "           HP       MPG       VOL        SP        WT\n",
       "HP   1.000000 -0.725038  0.077459  0.973848  0.076513\n",
       "MPG -0.725038  1.000000 -0.529057 -0.687125 -0.526759\n",
       "VOL  0.077459 -0.529057  1.000000  0.102170  0.999203\n",
       "SP   0.973848 -0.687125  0.102170  1.000000  0.102439\n",
       "WT   0.076513 -0.526759  0.999203  0.102439  1.000000"
      ]
     },
     "execution_count": 10,
     "metadata": {},
     "output_type": "execute_result"
    }
   ],
   "source": [
    "car.corr() ### we see high collinearity between 2 input variables i.e (HP & SP) (VOL & WT)"
   ]
  },
  {
   "cell_type": "code",
   "execution_count": 11,
   "id": "3706da63",
   "metadata": {},
   "outputs": [],
   "source": [
    "### scatter plot between 2 variables along with histogram"
   ]
  },
  {
   "cell_type": "code",
   "execution_count": 12,
   "id": "953b1534",
   "metadata": {},
   "outputs": [
    {
     "name": "stdout",
     "output_type": "stream",
     "text": [
      "Requirement already satisfied: seaborn in c:\\users\\chetan yewale\\anaconda3\\envs\\csy\\lib\\site-packages (0.11.2)\n",
      "Requirement already satisfied: numpy>=1.15 in c:\\users\\chetan yewale\\anaconda3\\envs\\csy\\lib\\site-packages (from seaborn) (1.21.2)\n",
      "Requirement already satisfied: pandas>=0.23 in c:\\users\\chetan yewale\\anaconda3\\envs\\csy\\lib\\site-packages (from seaborn) (1.3.3)\n",
      "Requirement already satisfied: scipy>=1.0 in c:\\users\\chetan yewale\\anaconda3\\envs\\csy\\lib\\site-packages (from seaborn) (1.7.1)\n",
      "Requirement already satisfied: matplotlib>=2.2 in c:\\users\\chetan yewale\\anaconda3\\envs\\csy\\lib\\site-packages (from seaborn) (3.4.3)\n",
      "Requirement already satisfied: pyparsing>=2.2.1 in c:\\users\\chetan yewale\\anaconda3\\envs\\csy\\lib\\site-packages (from matplotlib>=2.2->seaborn) (2.4.7)\n",
      "Requirement already satisfied: pillow>=6.2.0 in c:\\users\\chetan yewale\\anaconda3\\envs\\csy\\lib\\site-packages (from matplotlib>=2.2->seaborn) (8.3.2)\n",
      "Requirement already satisfied: cycler>=0.10 in c:\\users\\chetan yewale\\anaconda3\\envs\\csy\\lib\\site-packages (from matplotlib>=2.2->seaborn) (0.10.0)\n",
      "Requirement already satisfied: kiwisolver>=1.0.1 in c:\\users\\chetan yewale\\anaconda3\\envs\\csy\\lib\\site-packages (from matplotlib>=2.2->seaborn) (1.3.2)\n",
      "Requirement already satisfied: python-dateutil>=2.7 in c:\\users\\chetan yewale\\anaconda3\\envs\\csy\\lib\\site-packages (from matplotlib>=2.2->seaborn) (2.8.2)\n",
      "Requirement already satisfied: six in c:\\users\\chetan yewale\\anaconda3\\envs\\csy\\lib\\site-packages (from cycler>=0.10->matplotlib>=2.2->seaborn) (1.16.0)\n",
      "Requirement already satisfied: pytz>=2017.3 in c:\\users\\chetan yewale\\anaconda3\\envs\\csy\\lib\\site-packages (from pandas>=0.23->seaborn) (2021.1)\n"
     ]
    }
   ],
   "source": [
    "!pip install seaborn"
   ]
  },
  {
   "cell_type": "code",
   "execution_count": 13,
   "id": "b273b40f",
   "metadata": {},
   "outputs": [],
   "source": [
    "import seaborn as sns"
   ]
  },
  {
   "cell_type": "code",
   "execution_count": 14,
   "id": "f0ec7f1b",
   "metadata": {},
   "outputs": [
    {
     "data": {
      "text/plain": [
       "<seaborn.axisgrid.PairGrid at 0x1c1b00ae248>"
      ]
     },
     "execution_count": 14,
     "metadata": {},
     "output_type": "execute_result"
    },
    {
     "data": {
      "image/png": "[encoded data removed]",
      "text/plain": [
       "<Figure size 540x540 with 12 Axes>"
      ]
     },
     "metadata": {
      "needs_background": "light"
     },
     "output_type": "display_data"
    }
   ],
   "source": [
    "sns.pairplot(car.iloc[:,:3])    #####  iloc[:rows,:columns]"
   ]
  },
  {
   "cell_type": "code",
   "execution_count": 15,
   "id": "4e61b34b",
   "metadata": {},
   "outputs": [],
   "source": [
    "### model building by using statsmodel"
   ]
  },
  {
   "cell_type": "code",
   "execution_count": 16,
   "id": "c96a57ae",
   "metadata": {},
   "outputs": [
    {
     "name": "stdout",
     "output_type": "stream",
     "text": [
      "Requirement already satisfied: statsmodels in c:\\users\\chetan yewale\\anaconda3\\envs\\csy\\lib\\site-packages (0.13.0)\n",
      "Requirement already satisfied: patsy>=0.5.2 in c:\\users\\chetan yewale\\anaconda3\\envs\\csy\\lib\\site-packages (from statsmodels) (0.5.2)\n",
      "Requirement already satisfied: pandas>=0.25 in c:\\users\\chetan yewale\\anaconda3\\envs\\csy\\lib\\site-packages (from statsmodels) (1.3.3)\n",
      "Requirement already satisfied: numpy>=1.17 in c:\\users\\chetan yewale\\anaconda3\\envs\\csy\\lib\\site-packages (from statsmodels) (1.21.2)\n",
      "Requirement already satisfied: scipy>=1.3 in c:\\users\\chetan yewale\\anaconda3\\envs\\csy\\lib\\site-packages (from statsmodels) (1.7.1)\n",
      "Requirement already satisfied: python-dateutil>=2.7.3 in c:\\users\\chetan yewale\\anaconda3\\envs\\csy\\lib\\site-packages (from pandas>=0.25->statsmodels) (2.8.2)\n",
      "Requirement already satisfied: pytz>=2017.3 in c:\\users\\chetan yewale\\anaconda3\\envs\\csy\\lib\\site-packages (from pandas>=0.25->statsmodels) (2021.1)\n",
      "Requirement already satisfied: six in c:\\users\\chetan yewale\\anaconda3\\envs\\csy\\lib\\site-packages (from patsy>=0.5.2->statsmodels) (1.16.0)\n"
     ]
    }
   ],
   "source": [
    "!pip install statsmodels --upgrade"
   ]
  },
  {
   "cell_type": "code",
   "execution_count": 17,
   "id": "882c46ed",
   "metadata": {},
   "outputs": [],
   "source": [
    "import statsmodels.formula.api as smf"
   ]
  },
  {
   "cell_type": "code",
   "execution_count": 18,
   "id": "8c27ba69",
   "metadata": {},
   "outputs": [
    {
     "data": {
      "text/plain": [
       "Index(['HP', 'MPG', 'VOL', 'SP', 'WT'], dtype='object')"
      ]
     },
     "execution_count": 18,
     "metadata": {},
     "output_type": "execute_result"
    }
   ],
   "source": [
    "car.columns"
   ]
  },
  {
   "cell_type": "code",
   "execution_count": 19,
   "id": "18da0862",
   "metadata": {},
   "outputs": [],
   "source": [
    "model_1 = smf.ols(\"MPG~HP+VOL+SP+WT\",data = car).fit()"
   ]
  },
  {
   "cell_type": "code",
   "execution_count": 20,
   "id": "b9e00182",
   "metadata": {},
   "outputs": [
    {
     "data": {
      "text/plain": [
       "Intercept    30.677336\n",
       "HP           -0.205444\n",
       "VOL          -0.336051\n",
       "SP            0.395627\n",
       "WT            0.400574\n",
       "dtype: float64"
      ]
     },
     "execution_count": 20,
     "metadata": {},
     "output_type": "execute_result"
    }
   ],
   "source": [
    "model_1.params"
   ]
  },
  {
   "cell_type": "code",
   "execution_count": 21,
   "id": "b39854d9",
   "metadata": {},
   "outputs": [
    {
     "data": {
      "text/html": [
       "<table class=\"simpletable\">\n",
       "<caption>OLS Regression Results</caption>\n",
       "<tr>\n",
       "  <th>Dep. Variable:</th>           <td>MPG</td>       <th>  R-squared:         </th> <td>   0.771</td>\n",
       "</tr>\n",
       "<tr>\n",
       "  <th>Model:</th>                   <td>OLS</td>       <th>  Adj. R-squared:    </th> <td>   0.758</td>\n",
       "</tr>\n",
       "<tr>\n",
       "  <th>Method:</th>             <td>Least Squares</td>  <th>  F-statistic:       </th> <td>   63.80</td>\n",
       "</tr>\n",
       "<tr>\n",
       "  <th>Date:</th>             <td>Mon, 04 Oct 2021</td> <th>  Prob (F-statistic):</th> <td>1.54e-23</td>\n",
       "</tr>\n",
       "<tr>\n",
       "  <th>Time:</th>                 <td>18:39:26</td>     <th>  Log-Likelihood:    </th> <td> -233.96</td>\n",
       "</tr>\n",
       "<tr>\n",
       "  <th>No. Observations:</th>      <td>    81</td>      <th>  AIC:               </th> <td>   477.9</td>\n",
       "</tr>\n",
       "<tr>\n",
       "  <th>Df Residuals:</th>          <td>    76</td>      <th>  BIC:               </th> <td>   489.9</td>\n",
       "</tr>\n",
       "<tr>\n",
       "  <th>Df Model:</th>              <td>     4</td>      <th>                     </th>     <td> </td>   \n",
       "</tr>\n",
       "<tr>\n",
       "  <th>Covariance Type:</th>      <td>nonrobust</td>    <th>                     </th>     <td> </td>   \n",
       "</tr>\n",
       "</table>\n",
       "<table class=\"simpletable\">\n",
       "<tr>\n",
       "      <td></td>         <th>coef</th>     <th>std err</th>      <th>t</th>      <th>P>|t|</th>  <th>[0.025</th>    <th>0.975]</th>  \n",
       "</tr>\n",
       "<tr>\n",
       "  <th>Intercept</th> <td>   30.6773</td> <td>   14.900</td> <td>    2.059</td> <td> 0.043</td> <td>    1.001</td> <td>   60.354</td>\n",
       "</tr>\n",
       "<tr>\n",
       "  <th>HP</th>        <td>   -0.2054</td> <td>    0.039</td> <td>   -5.239</td> <td> 0.000</td> <td>   -0.284</td> <td>   -0.127</td>\n",
       "</tr>\n",
       "<tr>\n",
       "  <th>VOL</th>       <td>   -0.3361</td> <td>    0.569</td> <td>   -0.591</td> <td> 0.556</td> <td>   -1.469</td> <td>    0.796</td>\n",
       "</tr>\n",
       "<tr>\n",
       "  <th>SP</th>        <td>    0.3956</td> <td>    0.158</td> <td>    2.500</td> <td> 0.015</td> <td>    0.080</td> <td>    0.711</td>\n",
       "</tr>\n",
       "<tr>\n",
       "  <th>WT</th>        <td>    0.4006</td> <td>    1.693</td> <td>    0.237</td> <td> 0.814</td> <td>   -2.972</td> <td>    3.773</td>\n",
       "</tr>\n",
       "</table>\n",
       "<table class=\"simpletable\">\n",
       "<tr>\n",
       "  <th>Omnibus:</th>       <td>10.780</td> <th>  Durbin-Watson:     </th> <td>   1.403</td>\n",
       "</tr>\n",
       "<tr>\n",
       "  <th>Prob(Omnibus):</th> <td> 0.005</td> <th>  Jarque-Bera (JB):  </th> <td>  11.722</td>\n",
       "</tr>\n",
       "<tr>\n",
       "  <th>Skew:</th>          <td> 0.707</td> <th>  Prob(JB):          </th> <td> 0.00285</td>\n",
       "</tr>\n",
       "<tr>\n",
       "  <th>Kurtosis:</th>      <td> 4.215</td> <th>  Cond. No.          </th> <td>6.09e+03</td>\n",
       "</tr>\n",
       "</table><br/><br/>Notes:<br/>[1] Standard Errors assume that the covariance matrix of the errors is correctly specified.<br/>[2] The condition number is large, 6.09e+03. This might indicate that there are<br/>strong multicollinearity or other numerical problems."
      ],
      "text/plain": [
       "<class 'statsmodels.iolib.summary.Summary'>\n",
       "\"\"\"\n",
       "                            OLS Regression Results                            \n",
       "==============================================================================\n",
       "Dep. Variable:                    MPG   R-squared:                       0.771\n",
       "Model:                            OLS   Adj. R-squared:                  0.758\n",
       "Method:                 Least Squares   F-statistic:                     63.80\n",
       "Date:                Mon, 04 Oct 2021   Prob (F-statistic):           1.54e-23\n",
       "Time:                        18:39:26   Log-Likelihood:                -233.96\n",
       "No. Observations:                  81   AIC:                             477.9\n",
       "Df Residuals:                      76   BIC:                             489.9\n",
       "Df Model:                           4                                         \n",
       "Covariance Type:            nonrobust                                         \n",
       "==============================================================================\n",
       "                 coef    std err          t      P>|t|      [0.025      0.975]\n",
       "------------------------------------------------------------------------------\n",
       "Intercept     30.6773     14.900      2.059      0.043       1.001      60.354\n",
       "HP            -0.2054      0.039     -5.239      0.000      -0.284      -0.127\n",
       "VOL           -0.3361      0.569     -0.591      0.556      -1.469       0.796\n",
       "SP             0.3956      0.158      2.500      0.015       0.080       0.711\n",
       "WT             0.4006      1.693      0.237      0.814      -2.972       3.773\n",
       "==============================================================================\n",
       "Omnibus:                       10.780   Durbin-Watson:                   1.403\n",
       "Prob(Omnibus):                  0.005   Jarque-Bera (JB):               11.722\n",
       "Skew:                           0.707   Prob(JB):                      0.00285\n",
       "Kurtosis:                       4.215   Cond. No.                     6.09e+03\n",
       "==============================================================================\n",
       "\n",
       "Notes:\n",
       "[1] Standard Errors assume that the covariance matrix of the errors is correctly specified.\n",
       "[2] The condition number is large, 6.09e+03. This might indicate that there are\n",
       "strong multicollinearity or other numerical problems.\n",
       "\"\"\""
      ]
     },
     "execution_count": 21,
     "metadata": {},
     "output_type": "execute_result"
    }
   ],
   "source": [
    "model_1.summary() ## adj r2 = 0.758"
   ]
  },
  {
   "cell_type": "code",
   "execution_count": 22,
   "id": "924a0bde",
   "metadata": {},
   "outputs": [],
   "source": [
    "#### we see in model_1.params there is minus values of VOL & HP , we will have to take out these values"
   ]
  },
  {
   "cell_type": "code",
   "execution_count": 23,
   "id": "532428c1",
   "metadata": {},
   "outputs": [],
   "source": [
    "### but there is correlation in between them"
   ]
  },
  {
   "cell_type": "code",
   "execution_count": 24,
   "id": "095d5693",
   "metadata": {},
   "outputs": [],
   "source": [
    "## so we check the regression individually"
   ]
  },
  {
   "cell_type": "code",
   "execution_count": 25,
   "id": "3f5acf0e",
   "metadata": {},
   "outputs": [],
   "source": [
    "model_vol = smf.ols(\"MPG~VOL\", data = car).fit()"
   ]
  },
  {
   "cell_type": "code",
   "execution_count": 26,
   "id": "567be527",
   "metadata": {},
   "outputs": [
    {
     "data": {
      "text/html": [
       "<table class=\"simpletable\">\n",
       "<caption>OLS Regression Results</caption>\n",
       "<tr>\n",
       "  <th>Dep. Variable:</th>           <td>MPG</td>       <th>  R-squared:         </th> <td>   0.280</td>\n",
       "</tr>\n",
       "<tr>\n",
       "  <th>Model:</th>                   <td>OLS</td>       <th>  Adj. R-squared:    </th> <td>   0.271</td>\n",
       "</tr>\n",
       "<tr>\n",
       "  <th>Method:</th>             <td>Least Squares</td>  <th>  F-statistic:       </th> <td>   30.71</td>\n",
       "</tr>\n",
       "<tr>\n",
       "  <th>Date:</th>             <td>Mon, 04 Oct 2021</td> <th>  Prob (F-statistic):</th> <td>3.82e-07</td>\n",
       "</tr>\n",
       "<tr>\n",
       "  <th>Time:</th>                 <td>18:39:27</td>     <th>  Log-Likelihood:    </th> <td> -280.28</td>\n",
       "</tr>\n",
       "<tr>\n",
       "  <th>No. Observations:</th>      <td>    81</td>      <th>  AIC:               </th> <td>   564.6</td>\n",
       "</tr>\n",
       "<tr>\n",
       "  <th>Df Residuals:</th>          <td>    79</td>      <th>  BIC:               </th> <td>   569.4</td>\n",
       "</tr>\n",
       "<tr>\n",
       "  <th>Df Model:</th>              <td>     1</td>      <th>                     </th>     <td> </td>   \n",
       "</tr>\n",
       "<tr>\n",
       "  <th>Covariance Type:</th>      <td>nonrobust</td>    <th>                     </th>     <td> </td>   \n",
       "</tr>\n",
       "</table>\n",
       "<table class=\"simpletable\">\n",
       "<tr>\n",
       "      <td></td>         <th>coef</th>     <th>std err</th>      <th>t</th>      <th>P>|t|</th>  <th>[0.025</th>    <th>0.975]</th>  \n",
       "</tr>\n",
       "<tr>\n",
       "  <th>Intercept</th> <td>   55.8171</td> <td>    3.957</td> <td>   14.106</td> <td> 0.000</td> <td>   47.941</td> <td>   63.693</td>\n",
       "</tr>\n",
       "<tr>\n",
       "  <th>VOL</th>       <td>   -0.2166</td> <td>    0.039</td> <td>   -5.541</td> <td> 0.000</td> <td>   -0.294</td> <td>   -0.139</td>\n",
       "</tr>\n",
       "</table>\n",
       "<table class=\"simpletable\">\n",
       "<tr>\n",
       "  <th>Omnibus:</th>       <td> 2.691</td> <th>  Durbin-Watson:     </th> <td>   0.566</td>\n",
       "</tr>\n",
       "<tr>\n",
       "  <th>Prob(Omnibus):</th> <td> 0.260</td> <th>  Jarque-Bera (JB):  </th> <td>   1.997</td>\n",
       "</tr>\n",
       "<tr>\n",
       "  <th>Skew:</th>          <td>-0.263</td> <th>  Prob(JB):          </th> <td>   0.368</td>\n",
       "</tr>\n",
       "<tr>\n",
       "  <th>Kurtosis:</th>      <td> 3.562</td> <th>  Cond. No.          </th> <td>    462.</td>\n",
       "</tr>\n",
       "</table><br/><br/>Notes:<br/>[1] Standard Errors assume that the covariance matrix of the errors is correctly specified."
      ],
      "text/plain": [
       "<class 'statsmodels.iolib.summary.Summary'>\n",
       "\"\"\"\n",
       "                            OLS Regression Results                            \n",
       "==============================================================================\n",
       "Dep. Variable:                    MPG   R-squared:                       0.280\n",
       "Model:                            OLS   Adj. R-squared:                  0.271\n",
       "Method:                 Least Squares   F-statistic:                     30.71\n",
       "Date:                Mon, 04 Oct 2021   Prob (F-statistic):           3.82e-07\n",
       "Time:                        18:39:27   Log-Likelihood:                -280.28\n",
       "No. Observations:                  81   AIC:                             564.6\n",
       "Df Residuals:                      79   BIC:                             569.4\n",
       "Df Model:                           1                                         \n",
       "Covariance Type:            nonrobust                                         \n",
       "==============================================================================\n",
       "                 coef    std err          t      P>|t|      [0.025      0.975]\n",
       "------------------------------------------------------------------------------\n",
       "Intercept     55.8171      3.957     14.106      0.000      47.941      63.693\n",
       "VOL           -0.2166      0.039     -5.541      0.000      -0.294      -0.139\n",
       "==============================================================================\n",
       "Omnibus:                        2.691   Durbin-Watson:                   0.566\n",
       "Prob(Omnibus):                  0.260   Jarque-Bera (JB):                1.997\n",
       "Skew:                          -0.263   Prob(JB):                        0.368\n",
       "Kurtosis:                       3.562   Cond. No.                         462.\n",
       "==============================================================================\n",
       "\n",
       "Notes:\n",
       "[1] Standard Errors assume that the covariance matrix of the errors is correctly specified.\n",
       "\"\"\""
      ]
     },
     "execution_count": 26,
     "metadata": {},
     "output_type": "execute_result"
    }
   ],
   "source": [
    "model_vol.summary()  ## adj R2 = 0.271 ## p Value < 0.05 so its significant"
   ]
  },
  {
   "cell_type": "code",
   "execution_count": 27,
   "id": "0fd8d89f",
   "metadata": {},
   "outputs": [],
   "source": [
    "#### "
   ]
  },
  {
   "cell_type": "code",
   "execution_count": 28,
   "id": "43aa6bc2",
   "metadata": {},
   "outputs": [],
   "source": [
    "model_wt = smf.ols(\"MPG~WT\",data = car).fit()"
   ]
  },
  {
   "cell_type": "code",
   "execution_count": 29,
   "id": "65126d62",
   "metadata": {},
   "outputs": [
    {
     "data": {
      "text/html": [
       "<table class=\"simpletable\">\n",
       "<caption>OLS Regression Results</caption>\n",
       "<tr>\n",
       "  <th>Dep. Variable:</th>           <td>MPG</td>       <th>  R-squared:         </th> <td>   0.277</td>\n",
       "</tr>\n",
       "<tr>\n",
       "  <th>Model:</th>                   <td>OLS</td>       <th>  Adj. R-squared:    </th> <td>   0.268</td>\n",
       "</tr>\n",
       "<tr>\n",
       "  <th>Method:</th>             <td>Least Squares</td>  <th>  F-statistic:       </th> <td>   30.34</td>\n",
       "</tr>\n",
       "<tr>\n",
       "  <th>Date:</th>             <td>Mon, 04 Oct 2021</td> <th>  Prob (F-statistic):</th> <td>4.38e-07</td>\n",
       "</tr>\n",
       "<tr>\n",
       "  <th>Time:</th>                 <td>18:39:27</td>     <th>  Log-Likelihood:    </th> <td> -280.42</td>\n",
       "</tr>\n",
       "<tr>\n",
       "  <th>No. Observations:</th>      <td>    81</td>      <th>  AIC:               </th> <td>   564.8</td>\n",
       "</tr>\n",
       "<tr>\n",
       "  <th>Df Residuals:</th>          <td>    79</td>      <th>  BIC:               </th> <td>   569.6</td>\n",
       "</tr>\n",
       "<tr>\n",
       "  <th>Df Model:</th>              <td>     1</td>      <th>                     </th>     <td> </td>   \n",
       "</tr>\n",
       "<tr>\n",
       "  <th>Covariance Type:</th>      <td>nonrobust</td>    <th>                     </th>     <td> </td>   \n",
       "</tr>\n",
       "</table>\n",
       "<table class=\"simpletable\">\n",
       "<tr>\n",
       "      <td></td>         <th>coef</th>     <th>std err</th>      <th>t</th>      <th>P>|t|</th>  <th>[0.025</th>    <th>0.975]</th>  \n",
       "</tr>\n",
       "<tr>\n",
       "  <th>Intercept</th> <td>   55.2296</td> <td>    3.876</td> <td>   14.249</td> <td> 0.000</td> <td>   47.514</td> <td>   62.945</td>\n",
       "</tr>\n",
       "<tr>\n",
       "  <th>WT</th>        <td>   -0.6420</td> <td>    0.117</td> <td>   -5.508</td> <td> 0.000</td> <td>   -0.874</td> <td>   -0.410</td>\n",
       "</tr>\n",
       "</table>\n",
       "<table class=\"simpletable\">\n",
       "<tr>\n",
       "  <th>Omnibus:</th>       <td> 2.735</td> <th>  Durbin-Watson:     </th> <td>   0.555</td>\n",
       "</tr>\n",
       "<tr>\n",
       "  <th>Prob(Omnibus):</th> <td> 0.255</td> <th>  Jarque-Bera (JB):  </th> <td>   2.045</td>\n",
       "</tr>\n",
       "<tr>\n",
       "  <th>Skew:</th>          <td>-0.263</td> <th>  Prob(JB):          </th> <td>   0.360</td>\n",
       "</tr>\n",
       "<tr>\n",
       "  <th>Kurtosis:</th>      <td> 3.573</td> <th>  Cond. No.          </th> <td>    149.</td>\n",
       "</tr>\n",
       "</table><br/><br/>Notes:<br/>[1] Standard Errors assume that the covariance matrix of the errors is correctly specified."
      ],
      "text/plain": [
       "<class 'statsmodels.iolib.summary.Summary'>\n",
       "\"\"\"\n",
       "                            OLS Regression Results                            \n",
       "==============================================================================\n",
       "Dep. Variable:                    MPG   R-squared:                       0.277\n",
       "Model:                            OLS   Adj. R-squared:                  0.268\n",
       "Method:                 Least Squares   F-statistic:                     30.34\n",
       "Date:                Mon, 04 Oct 2021   Prob (F-statistic):           4.38e-07\n",
       "Time:                        18:39:27   Log-Likelihood:                -280.42\n",
       "No. Observations:                  81   AIC:                             564.8\n",
       "Df Residuals:                      79   BIC:                             569.6\n",
       "Df Model:                           1                                         \n",
       "Covariance Type:            nonrobust                                         \n",
       "==============================================================================\n",
       "                 coef    std err          t      P>|t|      [0.025      0.975]\n",
       "------------------------------------------------------------------------------\n",
       "Intercept     55.2296      3.876     14.249      0.000      47.514      62.945\n",
       "WT            -0.6420      0.117     -5.508      0.000      -0.874      -0.410\n",
       "==============================================================================\n",
       "Omnibus:                        2.735   Durbin-Watson:                   0.555\n",
       "Prob(Omnibus):                  0.255   Jarque-Bera (JB):                2.045\n",
       "Skew:                          -0.263   Prob(JB):                        0.360\n",
       "Kurtosis:                       3.573   Cond. No.                         149.\n",
       "==============================================================================\n",
       "\n",
       "Notes:\n",
       "[1] Standard Errors assume that the covariance matrix of the errors is correctly specified.\n",
       "\"\"\""
      ]
     },
     "execution_count": 29,
     "metadata": {},
     "output_type": "execute_result"
    }
   ],
   "source": [
    "model_wt.summary() ### adj R2 = 0.268"
   ]
  },
  {
   "cell_type": "code",
   "execution_count": 30,
   "id": "5218a85d",
   "metadata": {},
   "outputs": [],
   "source": [
    "##"
   ]
  },
  {
   "cell_type": "code",
   "execution_count": 31,
   "id": "b9c5a5ab",
   "metadata": {},
   "outputs": [],
   "source": [
    "model_vol_wt = smf.ols(\"MPG~VOL+WT\",data = car).fit() "
   ]
  },
  {
   "cell_type": "code",
   "execution_count": 32,
   "id": "fc5d8f4f",
   "metadata": {},
   "outputs": [
    {
     "data": {
      "text/html": [
       "<table class=\"simpletable\">\n",
       "<caption>OLS Regression Results</caption>\n",
       "<tr>\n",
       "  <th>Dep. Variable:</th>           <td>MPG</td>       <th>  R-squared:         </th> <td>   0.282</td>\n",
       "</tr>\n",
       "<tr>\n",
       "  <th>Model:</th>                   <td>OLS</td>       <th>  Adj. R-squared:    </th> <td>   0.264</td>\n",
       "</tr>\n",
       "<tr>\n",
       "  <th>Method:</th>             <td>Least Squares</td>  <th>  F-statistic:       </th> <td>   15.33</td>\n",
       "</tr>\n",
       "<tr>\n",
       "  <th>Date:</th>             <td>Mon, 04 Oct 2021</td> <th>  Prob (F-statistic):</th> <td>2.43e-06</td>\n",
       "</tr>\n",
       "<tr>\n",
       "  <th>Time:</th>                 <td>18:39:27</td>     <th>  Log-Likelihood:    </th> <td> -280.16</td>\n",
       "</tr>\n",
       "<tr>\n",
       "  <th>No. Observations:</th>      <td>    81</td>      <th>  AIC:               </th> <td>   566.3</td>\n",
       "</tr>\n",
       "<tr>\n",
       "  <th>Df Residuals:</th>          <td>    78</td>      <th>  BIC:               </th> <td>   573.5</td>\n",
       "</tr>\n",
       "<tr>\n",
       "  <th>Df Model:</th>              <td>     2</td>      <th>                     </th>     <td> </td>   \n",
       "</tr>\n",
       "<tr>\n",
       "  <th>Covariance Type:</th>      <td>nonrobust</td>    <th>                     </th>     <td> </td>   \n",
       "</tr>\n",
       "</table>\n",
       "<table class=\"simpletable\">\n",
       "<tr>\n",
       "      <td></td>         <th>coef</th>     <th>std err</th>      <th>t</th>      <th>P>|t|</th>  <th>[0.025</th>    <th>0.975]</th>  \n",
       "</tr>\n",
       "<tr>\n",
       "  <th>Intercept</th> <td>   56.8847</td> <td>    4.534</td> <td>   12.546</td> <td> 0.000</td> <td>   47.858</td> <td>   65.912</td>\n",
       "</tr>\n",
       "<tr>\n",
       "  <th>VOL</th>       <td>   -0.6983</td> <td>    0.984</td> <td>   -0.710</td> <td> 0.480</td> <td>   -2.658</td> <td>    1.261</td>\n",
       "</tr>\n",
       "<tr>\n",
       "  <th>WT</th>        <td>    1.4349</td> <td>    2.929</td> <td>    0.490</td> <td> 0.626</td> <td>   -4.397</td> <td>    7.266</td>\n",
       "</tr>\n",
       "</table>\n",
       "<table class=\"simpletable\">\n",
       "<tr>\n",
       "  <th>Omnibus:</th>       <td> 2.405</td> <th>  Durbin-Watson:     </th> <td>   0.591</td>\n",
       "</tr>\n",
       "<tr>\n",
       "  <th>Prob(Omnibus):</th> <td> 0.300</td> <th>  Jarque-Bera (JB):  </th> <td>   1.712</td>\n",
       "</tr>\n",
       "<tr>\n",
       "  <th>Skew:</th>          <td>-0.251</td> <th>  Prob(JB):          </th> <td>   0.425</td>\n",
       "</tr>\n",
       "<tr>\n",
       "  <th>Kurtosis:</th>      <td> 3.506</td> <th>  Cond. No.          </th> <td>    597.</td>\n",
       "</tr>\n",
       "</table><br/><br/>Notes:<br/>[1] Standard Errors assume that the covariance matrix of the errors is correctly specified."
      ],
      "text/plain": [
       "<class 'statsmodels.iolib.summary.Summary'>\n",
       "\"\"\"\n",
       "                            OLS Regression Results                            \n",
       "==============================================================================\n",
       "Dep. Variable:                    MPG   R-squared:                       0.282\n",
       "Model:                            OLS   Adj. R-squared:                  0.264\n",
       "Method:                 Least Squares   F-statistic:                     15.33\n",
       "Date:                Mon, 04 Oct 2021   Prob (F-statistic):           2.43e-06\n",
       "Time:                        18:39:27   Log-Likelihood:                -280.16\n",
       "No. Observations:                  81   AIC:                             566.3\n",
       "Df Residuals:                      78   BIC:                             573.5\n",
       "Df Model:                           2                                         \n",
       "Covariance Type:            nonrobust                                         \n",
       "==============================================================================\n",
       "                 coef    std err          t      P>|t|      [0.025      0.975]\n",
       "------------------------------------------------------------------------------\n",
       "Intercept     56.8847      4.534     12.546      0.000      47.858      65.912\n",
       "VOL           -0.6983      0.984     -0.710      0.480      -2.658       1.261\n",
       "WT             1.4349      2.929      0.490      0.626      -4.397       7.266\n",
       "==============================================================================\n",
       "Omnibus:                        2.405   Durbin-Watson:                   0.591\n",
       "Prob(Omnibus):                  0.300   Jarque-Bera (JB):                1.712\n",
       "Skew:                          -0.251   Prob(JB):                        0.425\n",
       "Kurtosis:                       3.506   Cond. No.                         597.\n",
       "==============================================================================\n",
       "\n",
       "Notes:\n",
       "[1] Standard Errors assume that the covariance matrix of the errors is correctly specified.\n",
       "\"\"\""
      ]
     },
     "execution_count": 32,
     "metadata": {},
     "output_type": "execute_result"
    }
   ],
   "source": [
    "model_vol_wt.summary() ## adj R2 = 0.264"
   ]
  },
  {
   "cell_type": "code",
   "execution_count": 33,
   "id": "9ba0db1c",
   "metadata": {},
   "outputs": [],
   "source": [
    "## both coeffiecient P values became insignificant .."
   ]
  },
  {
   "cell_type": "code",
   "execution_count": 34,
   "id": "ac16552d",
   "metadata": {},
   "outputs": [],
   "source": [
    "## so there maybe a chance of selecting any1 of VOL & WT"
   ]
  },
  {
   "cell_type": "code",
   "execution_count": 35,
   "id": "ba055ef9",
   "metadata": {},
   "outputs": [],
   "source": [
    "## CHecking weather the data has any influential Values"
   ]
  },
  {
   "cell_type": "code",
   "execution_count": 36,
   "id": "375f103c",
   "metadata": {},
   "outputs": [],
   "source": [
    "## influence index plot"
   ]
  },
  {
   "cell_type": "code",
   "execution_count": 37,
   "id": "b11d47a7",
   "metadata": {},
   "outputs": [],
   "source": [
    "import statsmodels.api as sm"
   ]
  },
  {
   "cell_type": "code",
   "execution_count": 38,
   "id": "3418b7fe",
   "metadata": {},
   "outputs": [
    {
     "data": {
      "image/png": "[encoded data removed]",
      "text/plain": [
       "<Figure size 432x288 with 1 Axes>"
      ]
     },
     "execution_count": 38,
     "metadata": {},
     "output_type": "execute_result"
    },
    {
     "data": {
      "image/png": "[encoded data removed]",
      "text/plain": [
       "<Figure size 432x288 with 1 Axes>"
      ]
     },
     "metadata": {
      "needs_background": "light"
     },
     "output_type": "display_data"
    }
   ],
   "source": [
    "sm.graphics.influence_plot(model_1)  ### 76 and 70 records are outliers so we remove these records"
   ]
  },
  {
   "cell_type": "code",
   "execution_count": 39,
   "id": "b3ce207b",
   "metadata": {},
   "outputs": [],
   "source": [
    "### studentized resudiual = residual / std deviation of residual"
   ]
  },
  {
   "cell_type": "code",
   "execution_count": 40,
   "id": "b3c7ee06",
   "metadata": {},
   "outputs": [],
   "source": [
    "cars_new = car.drop(car.index[[70,76]],axis = 0)"
   ]
  },
  {
   "cell_type": "code",
   "execution_count": 41,
   "id": "f37c5867",
   "metadata": {},
   "outputs": [],
   "source": [
    "#### Preparing new model"
   ]
  },
  {
   "cell_type": "code",
   "execution_count": 42,
   "id": "8fda3c4b",
   "metadata": {},
   "outputs": [],
   "source": [
    "model_nw = smf.ols(\"MPG~WT + VOL + HP + SP\",data = cars_new).fit()"
   ]
  },
  {
   "cell_type": "code",
   "execution_count": 43,
   "id": "4f075dd5",
   "metadata": {},
   "outputs": [
    {
     "data": {
      "text/plain": [
       "Intercept    25.262686\n",
       "WT           -0.130515\n",
       "VOL          -0.138784\n",
       "HP           -0.229533\n",
       "SP            0.443356\n",
       "dtype: float64"
      ]
     },
     "execution_count": 43,
     "metadata": {},
     "output_type": "execute_result"
    }
   ],
   "source": [
    "model_nw.params"
   ]
  },
  {
   "cell_type": "code",
   "execution_count": 44,
   "id": "aff75838",
   "metadata": {},
   "outputs": [
    {
     "data": {
      "text/html": [
       "<table class=\"simpletable\">\n",
       "<caption>OLS Regression Results</caption>\n",
       "<tr>\n",
       "  <th>Dep. Variable:</th>           <td>MPG</td>       <th>  R-squared:         </th> <td>   0.816</td>\n",
       "</tr>\n",
       "<tr>\n",
       "  <th>Model:</th>                   <td>OLS</td>       <th>  Adj. R-squared:    </th> <td>   0.806</td>\n",
       "</tr>\n",
       "<tr>\n",
       "  <th>Method:</th>             <td>Least Squares</td>  <th>  F-statistic:       </th> <td>   82.15</td>\n",
       "</tr>\n",
       "<tr>\n",
       "  <th>Date:</th>             <td>Mon, 04 Oct 2021</td> <th>  Prob (F-statistic):</th> <td>1.89e-26</td>\n",
       "</tr>\n",
       "<tr>\n",
       "  <th>Time:</th>                 <td>18:39:35</td>     <th>  Log-Likelihood:    </th> <td> -219.05</td>\n",
       "</tr>\n",
       "<tr>\n",
       "  <th>No. Observations:</th>      <td>    79</td>      <th>  AIC:               </th> <td>   448.1</td>\n",
       "</tr>\n",
       "<tr>\n",
       "  <th>Df Residuals:</th>          <td>    74</td>      <th>  BIC:               </th> <td>   460.0</td>\n",
       "</tr>\n",
       "<tr>\n",
       "  <th>Df Model:</th>              <td>     4</td>      <th>                     </th>     <td> </td>   \n",
       "</tr>\n",
       "<tr>\n",
       "  <th>Covariance Type:</th>      <td>nonrobust</td>    <th>                     </th>     <td> </td>   \n",
       "</tr>\n",
       "</table>\n",
       "<table class=\"simpletable\">\n",
       "<tr>\n",
       "      <td></td>         <th>coef</th>     <th>std err</th>      <th>t</th>      <th>P>|t|</th>  <th>[0.025</th>    <th>0.975]</th>  \n",
       "</tr>\n",
       "<tr>\n",
       "  <th>Intercept</th> <td>   25.2627</td> <td>   13.495</td> <td>    1.872</td> <td> 0.065</td> <td>   -1.627</td> <td>   52.152</td>\n",
       "</tr>\n",
       "<tr>\n",
       "  <th>WT</th>        <td>   -0.1305</td> <td>    1.519</td> <td>   -0.086</td> <td> 0.932</td> <td>   -3.158</td> <td>    2.897</td>\n",
       "</tr>\n",
       "<tr>\n",
       "  <th>VOL</th>       <td>   -0.1388</td> <td>    0.510</td> <td>   -0.272</td> <td> 0.786</td> <td>   -1.155</td> <td>    0.877</td>\n",
       "</tr>\n",
       "<tr>\n",
       "  <th>HP</th>        <td>   -0.2295</td> <td>    0.035</td> <td>   -6.489</td> <td> 0.000</td> <td>   -0.300</td> <td>   -0.159</td>\n",
       "</tr>\n",
       "<tr>\n",
       "  <th>SP</th>        <td>    0.4434</td> <td>    0.144</td> <td>    3.081</td> <td> 0.003</td> <td>    0.157</td> <td>    0.730</td>\n",
       "</tr>\n",
       "</table>\n",
       "<table class=\"simpletable\">\n",
       "<tr>\n",
       "  <th>Omnibus:</th>       <td> 6.476</td> <th>  Durbin-Watson:     </th> <td>   1.126</td>\n",
       "</tr>\n",
       "<tr>\n",
       "  <th>Prob(Omnibus):</th> <td> 0.039</td> <th>  Jarque-Bera (JB):  </th> <td>   5.764</td>\n",
       "</tr>\n",
       "<tr>\n",
       "  <th>Skew:</th>          <td> 0.617</td> <th>  Prob(JB):          </th> <td>  0.0560</td>\n",
       "</tr>\n",
       "<tr>\n",
       "  <th>Kurtosis:</th>      <td> 3.479</td> <th>  Cond. No.          </th> <td>6.00e+03</td>\n",
       "</tr>\n",
       "</table><br/><br/>Notes:<br/>[1] Standard Errors assume that the covariance matrix of the errors is correctly specified.<br/>[2] The condition number is large,  6e+03. This might indicate that there are<br/>strong multicollinearity or other numerical problems."
      ],
      "text/plain": [
       "<class 'statsmodels.iolib.summary.Summary'>\n",
       "\"\"\"\n",
       "                            OLS Regression Results                            \n",
       "==============================================================================\n",
       "Dep. Variable:                    MPG   R-squared:                       0.816\n",
       "Model:                            OLS   Adj. R-squared:                  0.806\n",
       "Method:                 Least Squares   F-statistic:                     82.15\n",
       "Date:                Mon, 04 Oct 2021   Prob (F-statistic):           1.89e-26\n",
       "Time:                        18:39:35   Log-Likelihood:                -219.05\n",
       "No. Observations:                  79   AIC:                             448.1\n",
       "Df Residuals:                      74   BIC:                             460.0\n",
       "Df Model:                           4                                         \n",
       "Covariance Type:            nonrobust                                         \n",
       "==============================================================================\n",
       "                 coef    std err          t      P>|t|      [0.025      0.975]\n",
       "------------------------------------------------------------------------------\n",
       "Intercept     25.2627     13.495      1.872      0.065      -1.627      52.152\n",
       "WT            -0.1305      1.519     -0.086      0.932      -3.158       2.897\n",
       "VOL           -0.1388      0.510     -0.272      0.786      -1.155       0.877\n",
       "HP            -0.2295      0.035     -6.489      0.000      -0.300      -0.159\n",
       "SP             0.4434      0.144      3.081      0.003       0.157       0.730\n",
       "==============================================================================\n",
       "Omnibus:                        6.476   Durbin-Watson:                   1.126\n",
       "Prob(Omnibus):                  0.039   Jarque-Bera (JB):                5.764\n",
       "Skew:                           0.617   Prob(JB):                       0.0560\n",
       "Kurtosis:                       3.479   Cond. No.                     6.00e+03\n",
       "==============================================================================\n",
       "\n",
       "Notes:\n",
       "[1] Standard Errors assume that the covariance matrix of the errors is correctly specified.\n",
       "[2] The condition number is large,  6e+03. This might indicate that there are\n",
       "strong multicollinearity or other numerical problems.\n",
       "\"\"\""
      ]
     },
     "execution_count": 44,
     "metadata": {},
     "output_type": "execute_result"
    }
   ],
   "source": [
    "model_nw.summary() ##adj R2 = 0.80"
   ]
  },
  {
   "cell_type": "code",
   "execution_count": 45,
   "id": "a40ab512",
   "metadata": {},
   "outputs": [
    {
     "data": {
      "text/html": [
       "<div>\n",
       "<style scoped>\n",
       "    .dataframe tbody tr th:only-of-type {\n",
       "        vertical-align: middle;\n",
       "    }\n",
       "\n",
       "    .dataframe tbody tr th {\n",
       "        vertical-align: top;\n",
       "    }\n",
       "\n",
       "    .dataframe thead th {\n",
       "        text-align: right;\n",
       "    }\n",
       "</style>\n",
       "<table border=\"1\" class=\"dataframe\">\n",
       "  <thead>\n",
       "    <tr style=\"text-align: right;\">\n",
       "      <th></th>\n",
       "      <th>0</th>\n",
       "      <th>1</th>\n",
       "    </tr>\n",
       "  </thead>\n",
       "  <tbody>\n",
       "    <tr>\n",
       "      <th>Intercept</th>\n",
       "      <td>-10.416762</td>\n",
       "      <td>60.942135</td>\n",
       "    </tr>\n",
       "    <tr>\n",
       "      <th>WT</th>\n",
       "      <td>-4.147683</td>\n",
       "      <td>3.886654</td>\n",
       "    </tr>\n",
       "    <tr>\n",
       "      <th>VOL</th>\n",
       "      <td>-1.486618</td>\n",
       "      <td>1.209049</td>\n",
       "    </tr>\n",
       "    <tr>\n",
       "      <th>HP</th>\n",
       "      <td>-0.323055</td>\n",
       "      <td>-0.136010</td>\n",
       "    </tr>\n",
       "    <tr>\n",
       "      <th>SP</th>\n",
       "      <td>0.062873</td>\n",
       "      <td>0.823838</td>\n",
       "    </tr>\n",
       "  </tbody>\n",
       "</table>\n",
       "</div>"
      ],
      "text/plain": [
       "                   0          1\n",
       "Intercept -10.416762  60.942135\n",
       "WT         -4.147683   3.886654\n",
       "VOL        -1.486618   1.209049\n",
       "HP         -0.323055  -0.136010\n",
       "SP          0.062873   0.823838"
      ]
     },
     "execution_count": 45,
     "metadata": {},
     "output_type": "execute_result"
    }
   ],
   "source": [
    "model_nw.conf_int(0.01)"
   ]
  },
  {
   "cell_type": "code",
   "execution_count": 46,
   "id": "6761b3c1",
   "metadata": {},
   "outputs": [],
   "source": [
    "mpg_pred = model_nw.predict(cars_new)"
   ]
  },
  {
   "cell_type": "code",
   "execution_count": 47,
   "id": "d6367037",
   "metadata": {},
   "outputs": [
    {
     "data": {
      "text/plain": [
       "0     44.101073\n",
       "1     42.650709\n",
       "2     42.686370\n",
       "3     42.732995\n",
       "4     42.741815\n",
       "        ...    \n",
       "75    20.514193\n",
       "77    16.483189\n",
       "78    23.110302\n",
       "79    10.349075\n",
       "80    13.680984\n",
       "Length: 79, dtype: float64"
      ]
     },
     "execution_count": 47,
     "metadata": {},
     "output_type": "execute_result"
    }
   ],
   "source": [
    "mpg_pred"
   ]
  },
  {
   "cell_type": "code",
   "execution_count": 48,
   "id": "838c0490",
   "metadata": {},
   "outputs": [
    {
     "data": {
      "text/html": [
       "<div>\n",
       "<style scoped>\n",
       "    .dataframe tbody tr th:only-of-type {\n",
       "        vertical-align: middle;\n",
       "    }\n",
       "\n",
       "    .dataframe tbody tr th {\n",
       "        vertical-align: top;\n",
       "    }\n",
       "\n",
       "    .dataframe thead th {\n",
       "        text-align: right;\n",
       "    }\n",
       "</style>\n",
       "<table border=\"1\" class=\"dataframe\">\n",
       "  <thead>\n",
       "    <tr style=\"text-align: right;\">\n",
       "      <th></th>\n",
       "      <th>HP</th>\n",
       "      <th>MPG</th>\n",
       "      <th>VOL</th>\n",
       "      <th>SP</th>\n",
       "      <th>WT</th>\n",
       "    </tr>\n",
       "  </thead>\n",
       "  <tbody>\n",
       "    <tr>\n",
       "      <th>0</th>\n",
       "      <td>49</td>\n",
       "      <td>53.700681</td>\n",
       "      <td>89</td>\n",
       "      <td>104.185353</td>\n",
       "      <td>28.762059</td>\n",
       "    </tr>\n",
       "    <tr>\n",
       "      <th>1</th>\n",
       "      <td>55</td>\n",
       "      <td>50.013401</td>\n",
       "      <td>92</td>\n",
       "      <td>105.461264</td>\n",
       "      <td>30.466833</td>\n",
       "    </tr>\n",
       "    <tr>\n",
       "      <th>2</th>\n",
       "      <td>55</td>\n",
       "      <td>50.013401</td>\n",
       "      <td>92</td>\n",
       "      <td>105.461264</td>\n",
       "      <td>30.193597</td>\n",
       "    </tr>\n",
       "    <tr>\n",
       "      <th>3</th>\n",
       "      <td>70</td>\n",
       "      <td>45.696322</td>\n",
       "      <td>92</td>\n",
       "      <td>113.461264</td>\n",
       "      <td>30.632114</td>\n",
       "    </tr>\n",
       "    <tr>\n",
       "      <th>4</th>\n",
       "      <td>53</td>\n",
       "      <td>50.504232</td>\n",
       "      <td>92</td>\n",
       "      <td>104.461264</td>\n",
       "      <td>29.889149</td>\n",
       "    </tr>\n",
       "  </tbody>\n",
       "</table>\n",
       "</div>"
      ],
      "text/plain": [
       "   HP        MPG  VOL          SP         WT\n",
       "0  49  53.700681   89  104.185353  28.762059\n",
       "1  55  50.013401   92  105.461264  30.466833\n",
       "2  55  50.013401   92  105.461264  30.193597\n",
       "3  70  45.696322   92  113.461264  30.632114\n",
       "4  53  50.504232   92  104.461264  29.889149"
      ]
     },
     "execution_count": 48,
     "metadata": {},
     "output_type": "execute_result"
    }
   ],
   "source": [
    "cars_new.head()"
   ]
  },
  {
   "cell_type": "code",
   "execution_count": 49,
   "id": "d67fd6d0",
   "metadata": {},
   "outputs": [],
   "source": [
    "## calculating VIF values"
   ]
  },
  {
   "cell_type": "code",
   "execution_count": 50,
   "id": "bebd5cf0",
   "metadata": {},
   "outputs": [],
   "source": [
    "rsq_hp = smf.ols(\"HP~SP + VOL + WT\",data = cars_new).fit().rsquared   ### root means square values"
   ]
  },
  {
   "cell_type": "code",
   "execution_count": 51,
   "id": "deadac45",
   "metadata": {},
   "outputs": [],
   "source": [
    "vif_hp = 1/(1-rsq_hp)  ### 14.92"
   ]
  },
  {
   "cell_type": "code",
   "execution_count": 52,
   "id": "375e9d41",
   "metadata": {},
   "outputs": [
    {
     "data": {
      "text/plain": [
       "14.927705081455661"
      ]
     },
     "execution_count": 52,
     "metadata": {},
     "output_type": "execute_result"
    }
   ],
   "source": [
    "vif_hp"
   ]
  },
  {
   "cell_type": "code",
   "execution_count": 53,
   "id": "ce2ec814",
   "metadata": {},
   "outputs": [],
   "source": [
    "rsq_sp = smf.ols(\"SP ~ VOL + WT + HP\",data = cars_new).fit().rsquared"
   ]
  },
  {
   "cell_type": "code",
   "execution_count": 54,
   "id": "9d4fd0f4",
   "metadata": {},
   "outputs": [],
   "source": [
    "vif_sp = 1/(1-rsq_sp)  ### 15.290"
   ]
  },
  {
   "cell_type": "code",
   "execution_count": 55,
   "id": "101d810f",
   "metadata": {},
   "outputs": [
    {
     "data": {
      "text/plain": [
       "15.290510890814494"
      ]
     },
     "execution_count": 55,
     "metadata": {},
     "output_type": "execute_result"
    }
   ],
   "source": [
    "vif_sp"
   ]
  },
  {
   "cell_type": "code",
   "execution_count": 56,
   "id": "1efae151",
   "metadata": {},
   "outputs": [],
   "source": [
    "rsq_vol = smf.ols(\"VOL ~ HP + SP+ WT\",data = cars_new).fit().rsquared  #### root means square value"
   ]
  },
  {
   "cell_type": "code",
   "execution_count": 57,
   "id": "33d0c27b",
   "metadata": {},
   "outputs": [],
   "source": [
    "vif_vol = 1/(1-rsq_vol) ## 566.722"
   ]
  },
  {
   "cell_type": "code",
   "execution_count": 58,
   "id": "8a28b628",
   "metadata": {},
   "outputs": [
    {
     "data": {
      "text/plain": [
       "566.722324344509"
      ]
     },
     "execution_count": 58,
     "metadata": {},
     "output_type": "execute_result"
    }
   ],
   "source": [
    "vif_vol"
   ]
  },
  {
   "cell_type": "code",
   "execution_count": 59,
   "id": "03422802",
   "metadata": {},
   "outputs": [],
   "source": [
    "rsq_wt = smf.ols(\"WT ~ VOL + HP+ SP\",data = cars_new).fit().rsquared"
   ]
  },
  {
   "cell_type": "code",
   "execution_count": 60,
   "id": "2407cc36",
   "metadata": {},
   "outputs": [],
   "source": [
    "vif_wt = 1/(1-rsq_wt) ## 567.77"
   ]
  },
  {
   "cell_type": "code",
   "execution_count": 61,
   "id": "8e8da523",
   "metadata": {},
   "outputs": [
    {
     "data": {
      "text/plain": [
       "567.7797106222519"
      ]
     },
     "execution_count": 61,
     "metadata": {},
     "output_type": "execute_result"
    }
   ],
   "source": [
    "vif_wt"
   ]
  },
  {
   "cell_type": "code",
   "execution_count": 62,
   "id": "9664fb22",
   "metadata": {},
   "outputs": [],
   "source": [
    "#### storing vif values in variables"
   ]
  },
  {
   "cell_type": "code",
   "execution_count": 63,
   "id": "a752d3bd",
   "metadata": {},
   "outputs": [],
   "source": [
    "d1 = {'Variables':['HP','WT','VOL','SP'], 'VIF' : [vif_hp,vif_wt,vif_vol,vif_sp]}"
   ]
  },
  {
   "cell_type": "code",
   "execution_count": 64,
   "id": "08f1c8d0",
   "metadata": {},
   "outputs": [],
   "source": [
    "vif_frame = pd.DataFrame(d1)"
   ]
  },
  {
   "cell_type": "code",
   "execution_count": 65,
   "id": "e9c19094",
   "metadata": {},
   "outputs": [
    {
     "data": {
      "text/plain": [
       "pandas.core.frame.DataFrame"
      ]
     },
     "execution_count": 65,
     "metadata": {},
     "output_type": "execute_result"
    }
   ],
   "source": [
    "type(vif_frame)"
   ]
  },
  {
   "cell_type": "code",
   "execution_count": 66,
   "id": "643517f2",
   "metadata": {},
   "outputs": [],
   "source": [
    "##### WT is having Higher VIF value so we are not going to including WT in this prediction model"
   ]
  },
  {
   "cell_type": "code",
   "execution_count": 67,
   "id": "601a6644",
   "metadata": {},
   "outputs": [],
   "source": [
    "### added varible plot AVP"
   ]
  },
  {
   "cell_type": "code",
   "execution_count": 68,
   "id": "1c5543c0",
   "metadata": {},
   "outputs": [
    {
     "name": "stdout",
     "output_type": "stream",
     "text": [
      "eval_env: 1\n",
      "eval_env: 1\n",
      "eval_env: 1\n",
      "eval_env: 1\n",
      "eval_env: 1\n"
     ]
    },
    {
     "data": {
      "image/png": "[encoded data removed]",
      "text/plain": [
       "<Figure size 432x288 with 5 Axes>"
      ]
     },
     "execution_count": 68,
     "metadata": {},
     "output_type": "execute_result"
    },
    {
     "data": {
      "image/png": "[encoded data removed]",
      "text/plain": [
       "<Figure size 432x288 with 5 Axes>"
      ]
     },
     "metadata": {
      "needs_background": "light"
     },
     "output_type": "display_data"
    }
   ],
   "source": [
    "sm.graphics.plot_partregress_grid(model_nw)"
   ]
  },
  {
   "cell_type": "code",
   "execution_count": 69,
   "id": "fc24dea1",
   "metadata": {},
   "outputs": [],
   "source": [
    "final_model = smf.ols(\"MPG ~ VOL + HP+ SP\",data = cars_new).fit()"
   ]
  },
  {
   "cell_type": "code",
   "execution_count": 70,
   "id": "64a148db",
   "metadata": {},
   "outputs": [
    {
     "data": {
      "text/plain": [
       "Intercept    25.527511\n",
       "VOL          -0.182530\n",
       "HP           -0.229084\n",
       "SP            0.441482\n",
       "dtype: float64"
      ]
     },
     "execution_count": 70,
     "metadata": {},
     "output_type": "execute_result"
    }
   ],
   "source": [
    "final_model.params"
   ]
  },
  {
   "cell_type": "code",
   "execution_count": 71,
   "id": "1199b5f2",
   "metadata": {},
   "outputs": [
    {
     "data": {
      "text/html": [
       "<table class=\"simpletable\">\n",
       "<caption>OLS Regression Results</caption>\n",
       "<tr>\n",
       "  <th>Dep. Variable:</th>           <td>MPG</td>       <th>  R-squared:         </th> <td>   0.816</td>\n",
       "</tr>\n",
       "<tr>\n",
       "  <th>Model:</th>                   <td>OLS</td>       <th>  Adj. R-squared:    </th> <td>   0.809</td>\n",
       "</tr>\n",
       "<tr>\n",
       "  <th>Method:</th>             <td>Least Squares</td>  <th>  F-statistic:       </th> <td>   111.0</td>\n",
       "</tr>\n",
       "<tr>\n",
       "  <th>Date:</th>             <td>Mon, 04 Oct 2021</td> <th>  Prob (F-statistic):</th> <td>1.65e-27</td>\n",
       "</tr>\n",
       "<tr>\n",
       "  <th>Time:</th>                 <td>18:39:40</td>     <th>  Log-Likelihood:    </th> <td> -219.06</td>\n",
       "</tr>\n",
       "<tr>\n",
       "  <th>No. Observations:</th>      <td>    79</td>      <th>  AIC:               </th> <td>   446.1</td>\n",
       "</tr>\n",
       "<tr>\n",
       "  <th>Df Residuals:</th>          <td>    75</td>      <th>  BIC:               </th> <td>   455.6</td>\n",
       "</tr>\n",
       "<tr>\n",
       "  <th>Df Model:</th>              <td>     3</td>      <th>                     </th>     <td> </td>   \n",
       "</tr>\n",
       "<tr>\n",
       "  <th>Covariance Type:</th>      <td>nonrobust</td>    <th>                     </th>     <td> </td>   \n",
       "</tr>\n",
       "</table>\n",
       "<table class=\"simpletable\">\n",
       "<tr>\n",
       "      <td></td>         <th>coef</th>     <th>std err</th>      <th>t</th>      <th>P>|t|</th>  <th>[0.025</th>    <th>0.975]</th>  \n",
       "</tr>\n",
       "<tr>\n",
       "  <th>Intercept</th> <td>   25.5275</td> <td>   13.051</td> <td>    1.956</td> <td> 0.054</td> <td>   -0.471</td> <td>   51.526</td>\n",
       "</tr>\n",
       "<tr>\n",
       "  <th>VOL</th>       <td>   -0.1825</td> <td>    0.023</td> <td>   -8.012</td> <td> 0.000</td> <td>   -0.228</td> <td>   -0.137</td>\n",
       "</tr>\n",
       "<tr>\n",
       "  <th>HP</th>        <td>   -0.2291</td> <td>    0.035</td> <td>   -6.592</td> <td> 0.000</td> <td>   -0.298</td> <td>   -0.160</td>\n",
       "</tr>\n",
       "<tr>\n",
       "  <th>SP</th>        <td>    0.4415</td> <td>    0.141</td> <td>    3.124</td> <td> 0.003</td> <td>    0.160</td> <td>    0.723</td>\n",
       "</tr>\n",
       "</table>\n",
       "<table class=\"simpletable\">\n",
       "<tr>\n",
       "  <th>Omnibus:</th>       <td> 6.541</td> <th>  Durbin-Watson:     </th> <td>   1.130</td>\n",
       "</tr>\n",
       "<tr>\n",
       "  <th>Prob(Omnibus):</th> <td> 0.038</td> <th>  Jarque-Bera (JB):  </th> <td>   5.833</td>\n",
       "</tr>\n",
       "<tr>\n",
       "  <th>Skew:</th>          <td> 0.620</td> <th>  Prob(JB):          </th> <td>  0.0541</td>\n",
       "</tr>\n",
       "<tr>\n",
       "  <th>Kurtosis:</th>      <td> 3.485</td> <th>  Cond. No.          </th> <td>5.76e+03</td>\n",
       "</tr>\n",
       "</table><br/><br/>Notes:<br/>[1] Standard Errors assume that the covariance matrix of the errors is correctly specified.<br/>[2] The condition number is large, 5.76e+03. This might indicate that there are<br/>strong multicollinearity or other numerical problems."
      ],
      "text/plain": [
       "<class 'statsmodels.iolib.summary.Summary'>\n",
       "\"\"\"\n",
       "                            OLS Regression Results                            \n",
       "==============================================================================\n",
       "Dep. Variable:                    MPG   R-squared:                       0.816\n",
       "Model:                            OLS   Adj. R-squared:                  0.809\n",
       "Method:                 Least Squares   F-statistic:                     111.0\n",
       "Date:                Mon, 04 Oct 2021   Prob (F-statistic):           1.65e-27\n",
       "Time:                        18:39:40   Log-Likelihood:                -219.06\n",
       "No. Observations:                  79   AIC:                             446.1\n",
       "Df Residuals:                      75   BIC:                             455.6\n",
       "Df Model:                           3                                         \n",
       "Covariance Type:            nonrobust                                         \n",
       "==============================================================================\n",
       "                 coef    std err          t      P>|t|      [0.025      0.975]\n",
       "------------------------------------------------------------------------------\n",
       "Intercept     25.5275     13.051      1.956      0.054      -0.471      51.526\n",
       "VOL           -0.1825      0.023     -8.012      0.000      -0.228      -0.137\n",
       "HP            -0.2291      0.035     -6.592      0.000      -0.298      -0.160\n",
       "SP             0.4415      0.141      3.124      0.003       0.160       0.723\n",
       "==============================================================================\n",
       "Omnibus:                        6.541   Durbin-Watson:                   1.130\n",
       "Prob(Omnibus):                  0.038   Jarque-Bera (JB):                5.833\n",
       "Skew:                           0.620   Prob(JB):                       0.0541\n",
       "Kurtosis:                       3.485   Cond. No.                     5.76e+03\n",
       "==============================================================================\n",
       "\n",
       "Notes:\n",
       "[1] Standard Errors assume that the covariance matrix of the errors is correctly specified.\n",
       "[2] The condition number is large, 5.76e+03. This might indicate that there are\n",
       "strong multicollinearity or other numerical problems.\n",
       "\"\"\""
      ]
     },
     "execution_count": 71,
     "metadata": {},
     "output_type": "execute_result"
    }
   ],
   "source": [
    "final_model.summary() ### adj R2 = 0.809"
   ]
  },
  {
   "cell_type": "code",
   "execution_count": 72,
   "id": "261ca1f9",
   "metadata": {},
   "outputs": [],
   "source": [
    "mpg_pred = final_model.predict(cars_new)"
   ]
  },
  {
   "cell_type": "code",
   "execution_count": 73,
   "id": "38da543f",
   "metadata": {},
   "outputs": [
    {
     "data": {
      "text/plain": [
       "0     44.053224\n",
       "1     42.694424\n",
       "2     42.694424\n",
       "3     42.790029\n",
       "4     42.711109\n",
       "        ...    \n",
       "75    20.548675\n",
       "77    16.491552\n",
       "78    23.080092\n",
       "79    10.371281\n",
       "80    13.670311\n",
       "Length: 79, dtype: float64"
      ]
     },
     "execution_count": 73,
     "metadata": {},
     "output_type": "execute_result"
    }
   ],
   "source": [
    "mpg_pred"
   ]
  },
  {
   "cell_type": "code",
   "execution_count": 74,
   "id": "a52cf843",
   "metadata": {},
   "outputs": [
    {
     "name": "stdout",
     "output_type": "stream",
     "text": [
      "eval_env: 1\n",
      "eval_env: 1\n",
      "eval_env: 1\n",
      "eval_env: 1\n"
     ]
    },
    {
     "data": {
      "image/png": "[encoded data removed]",
      "text/plain": [
       "<Figure size 432x288 with 4 Axes>"
      ]
     },
     "execution_count": 74,
     "metadata": {},
     "output_type": "execute_result"
    },
    {
     "data": {
      "image/png": "[encoded data removed]",
      "text/plain": [
       "<Figure size 432x288 with 4 Axes>"
      ]
     },
     "metadata": {
      "needs_background": "light"
     },
     "output_type": "display_data"
    }
   ],
   "source": [
    "sm.graphics.plot_partregress_grid(final_model)"
   ]
  },
  {
   "cell_type": "code",
   "execution_count": 75,
   "id": "e50587a4",
   "metadata": {},
   "outputs": [],
   "source": [
    "####### LINEARITY #########"
   ]
  },
  {
   "cell_type": "code",
   "execution_count": 76,
   "id": "f855b874",
   "metadata": {},
   "outputs": [],
   "source": [
    "### obsrved values VS fitted Values"
   ]
  },
  {
   "cell_type": "code",
   "execution_count": 77,
   "id": "2837bddc",
   "metadata": {},
   "outputs": [
    {
     "data": {
      "text/plain": [
       "Text(0, 0.5, 'predicted values')"
      ]
     },
     "execution_count": 77,
     "metadata": {},
     "output_type": "execute_result"
    },
    {
     "data": {
      "image/png": "[encoded data removed]",
      "text/plain": [
       "<Figure size 432x288 with 1 Axes>"
      ]
     },
     "metadata": {
      "needs_background": "light"
     },
     "output_type": "display_data"
    }
   ],
   "source": [
    "plt.scatter(cars_new.MPG,mpg_pred,c = \"r\");plt.xlabel(\"observed values\");plt.ylabel(\"predicted values\")"
   ]
  },
  {
   "cell_type": "code",
   "execution_count": 78,
   "id": "82476f3e",
   "metadata": {},
   "outputs": [],
   "source": [
    "### resid values VS fitted values"
   ]
  },
  {
   "cell_type": "code",
   "execution_count": 79,
   "id": "c5b4a1a5",
   "metadata": {},
   "outputs": [
    {
     "data": {
      "text/plain": [
       "Text(0, 0.5, 'residuals')"
      ]
     },
     "execution_count": 79,
     "metadata": {},
     "output_type": "execute_result"
    },
    {
     "data": {
      "image/png": "[encoded data removed]",
      "text/plain": [
       "<Figure size 432x288 with 1 Axes>"
      ]
     },
     "metadata": {
      "needs_background": "light"
     },
     "output_type": "display_data"
    }
   ],
   "source": [
    "plt.scatter(mpg_pred,final_model.resid_pearson,c =\"r\");plt.axhline(y = 0,c=\"blue\");plt.xlabel(\"fitted values\");plt.ylabel(\"residuals\")"
   ]
  },
  {
   "cell_type": "code",
   "execution_count": 80,
   "id": "15c61955",
   "metadata": {},
   "outputs": [],
   "source": [
    "  ##### NORMALITY PLOT FOR RESIDUALS ######"
   ]
  },
  {
   "cell_type": "code",
   "execution_count": 82,
   "id": "ae2d6a72",
   "metadata": {},
   "outputs": [
    {
     "data": {
      "text/plain": [
       "(array([ 3.,  6., 12., 21., 15., 10.,  4.,  1.,  4.,  3.]),\n",
       " array([-1.98480369, -1.51158404, -1.0383644 , -0.56514475, -0.09192511,\n",
       "         0.38129454,  0.85451418,  1.32773383,  1.80095347,  2.27417312,\n",
       "         2.74739276]),\n",
       " <BarContainer object of 10 artists>)"
      ]
     },
     "execution_count": 82,
     "metadata": {},
     "output_type": "execute_result"
    },
    {
     "data": {
      "image/png": "[encoded data removed]",
      "text/plain": [
       "<Figure size 432x288 with 1 Axes>"
      ]
     },
     "metadata": {
      "needs_background": "light"
     },
     "output_type": "display_data"
    }
   ],
   "source": [
    "plt.hist(final_model.resid_pearson)"
   ]
  },
  {
   "cell_type": "code",
   "execution_count": 83,
   "id": "9a3515b3",
   "metadata": {},
   "outputs": [],
   "source": [
    "### QQ plot for residual"
   ]
  },
  {
   "cell_type": "code",
   "execution_count": 84,
   "id": "b8cefbbf",
   "metadata": {},
   "outputs": [],
   "source": [
    "import pylab"
   ]
  },
  {
   "cell_type": "code",
   "execution_count": 85,
   "id": "127ec51a",
   "metadata": {},
   "outputs": [],
   "source": [
    "import scipy.stats as st"
   ]
  },
  {
   "cell_type": "code",
   "execution_count": 86,
   "id": "f76e0638",
   "metadata": {},
   "outputs": [],
   "source": [
    "## checking residuals are normally distributed "
   ]
  },
  {
   "cell_type": "code",
   "execution_count": 87,
   "id": "285e9e58",
   "metadata": {},
   "outputs": [
    {
     "data": {
      "text/plain": [
       "((array([-2.37663702, -2.02958204, -1.82767017, -1.68081377, -1.5632274 ,\n",
       "         -1.46398099, -1.37736584, -1.30000518, -1.22972736, -1.16504879,\n",
       "         -1.10490843, -1.04851956, -0.99528161, -0.94472489, -0.89647454,\n",
       "         -0.8502261 , -0.80572849, -0.76277189, -0.72117887, -0.68079772,\n",
       "         -0.64149747, -0.60316407, -0.5656973 , -0.52900844, -0.49301835,\n",
       "         -0.45765594, -0.4228569 , -0.38856265, -0.35471952, -0.32127797,\n",
       "         -0.288192  , -0.25541861, -0.22291736, -0.19064996, -0.15857989,\n",
       "         -0.12667214, -0.09489286, -0.06320916, -0.0315888 ,  0.        ,\n",
       "          0.0315888 ,  0.06320916,  0.09489286,  0.12667214,  0.15857989,\n",
       "          0.19064996,  0.22291736,  0.25541861,  0.288192  ,  0.32127797,\n",
       "          0.35471952,  0.38856265,  0.4228569 ,  0.45765594,  0.49301835,\n",
       "          0.52900844,  0.5656973 ,  0.60316407,  0.64149747,  0.68079772,\n",
       "          0.72117887,  0.76277189,  0.80572849,  0.8502261 ,  0.89647454,\n",
       "          0.94472489,  0.99528161,  1.04851956,  1.10490843,  1.16504879,\n",
       "          1.22972736,  1.30000518,  1.37736584,  1.46398099,  1.5632274 ,\n",
       "          1.68081377,  1.82767017,  2.02958204,  2.37663702]),\n",
       "  array([-1.98480369, -1.98480369, -1.8888564 , -1.38494954, -1.27313624,\n",
       "         -1.17070097, -1.1633628 , -1.10596708, -1.0575631 , -1.00793379,\n",
       "         -1.00793379, -0.95429347, -0.84030656, -0.84030656, -0.84030656,\n",
       "         -0.84030656, -0.79368522, -0.73450685, -0.7074515 , -0.62508991,\n",
       "         -0.58036026, -0.54850682, -0.51327661, -0.45966611, -0.44930764,\n",
       "         -0.42443588, -0.42178673, -0.3947645 , -0.31670884, -0.29421762,\n",
       "         -0.2800648 , -0.2671746 , -0.25898741, -0.23510704, -0.19814381,\n",
       "         -0.19541359, -0.19541359, -0.16231084, -0.13915975, -0.13915975,\n",
       "         -0.11615503, -0.11530085, -0.09176115, -0.05641186, -0.03116896,\n",
       "         -0.01902038,  0.00406126,  0.02581084,  0.0403721 ,  0.12296529,\n",
       "          0.13293513,  0.15819552,  0.19431205,  0.29126471,  0.30210852,\n",
       "          0.31427691,  0.31427691,  0.46879981,  0.50358596,  0.50537441,\n",
       "          0.61089775,  0.62408413,  0.68090013,  0.73120843,  0.75660602,\n",
       "          0.75660602,  0.75660602,  0.95861676,  0.96957964,  1.22013906,\n",
       "          1.22809979,  1.39805661,  1.84141708,  1.84141708,  1.84141708,\n",
       "          1.96070976,  2.38070439,  2.42725075,  2.74739276])),\n",
       " (0.9799425333709062, -1.163804943349677e-14, 0.9812128080245845))"
      ]
     },
     "execution_count": 87,
     "metadata": {},
     "output_type": "execute_result"
    },
    {
     "data": {
      "image/png": "[encoded data removed]",
      "text/plain": [
       "<Figure size 432x288 with 1 Axes>"
      ]
     },
     "metadata": {
      "needs_background": "light"
     },
     "output_type": "display_data"
    }
   ],
   "source": [
    "st.probplot(final_model.resid_pearson,dist = \"norm\",plot = pylab)"
   ]
  },
  {
   "cell_type": "code",
   "execution_count": 88,
   "id": "20d9b095",
   "metadata": {},
   "outputs": [],
   "source": [
    "#####  splitting into train and test data"
   ]
  },
  {
   "cell_type": "code",
   "execution_count": 89,
   "id": "d4e79e57",
   "metadata": {},
   "outputs": [],
   "source": [
    "from sklearn.model_selection import train_test_split"
   ]
  },
  {
   "cell_type": "code",
   "execution_count": 115,
   "id": "0fa9f842",
   "metadata": {},
   "outputs": [],
   "source": [
    "cars_train,cars_test = train_test_split(cars_new,test_size = 0.3)  ### train test split into 80%, 20 %"
   ]
  },
  {
   "cell_type": "code",
   "execution_count": 116,
   "id": "6b91531f",
   "metadata": {},
   "outputs": [],
   "source": [
    "### preparing model on train data"
   ]
  },
  {
   "cell_type": "code",
   "execution_count": 117,
   "id": "78feb230",
   "metadata": {},
   "outputs": [],
   "source": [
    "train_model = smf.ols(\"MPG~ VOL+SP+HP\",data = cars_train).fit()"
   ]
  },
  {
   "cell_type": "code",
   "execution_count": 118,
   "id": "76334051",
   "metadata": {},
   "outputs": [],
   "source": [
    "train_pred = train_model.predict(cars_train) ### train data prediction"
   ]
  },
  {
   "cell_type": "code",
   "execution_count": 119,
   "id": "51723875",
   "metadata": {},
   "outputs": [],
   "source": [
    "train_resid = train_pred - cars_train.MPG  ### train residual values"
   ]
  },
  {
   "cell_type": "code",
   "execution_count": 120,
   "id": "b65649a1",
   "metadata": {},
   "outputs": [],
   "source": [
    "### train RMSE"
   ]
  },
  {
   "cell_type": "code",
   "execution_count": 121,
   "id": "7b2f20fb",
   "metadata": {},
   "outputs": [],
   "source": [
    "train_rmse = np.sqrt(np.mean(train_resid*train_resid)) ###4.2366"
   ]
  },
  {
   "cell_type": "code",
   "execution_count": 122,
   "id": "3c71a963",
   "metadata": {},
   "outputs": [
    {
     "data": {
      "text/plain": [
       "3.906864255652098"
      ]
     },
     "execution_count": 122,
     "metadata": {},
     "output_type": "execute_result"
    }
   ],
   "source": [
    "train_rmse"
   ]
  },
  {
   "cell_type": "code",
   "execution_count": 123,
   "id": "25f8fd87",
   "metadata": {},
   "outputs": [],
   "source": [
    "#### test prediction"
   ]
  },
  {
   "cell_type": "code",
   "execution_count": 124,
   "id": "cfe0d2ec",
   "metadata": {},
   "outputs": [],
   "source": [
    "test_pred = train_model.predict(cars_test)"
   ]
  },
  {
   "cell_type": "code",
   "execution_count": 125,
   "id": "fa8d033c",
   "metadata": {},
   "outputs": [],
   "source": [
    "test_resid = test_pred - cars_test.MPG"
   ]
  },
  {
   "cell_type": "code",
   "execution_count": 126,
   "id": "4967956d",
   "metadata": {},
   "outputs": [],
   "source": [
    "test_rmse = np.sqrt(np.mean(test_resid*test_resid))  ### 1.83"
   ]
  },
  {
   "cell_type": "code",
   "execution_count": 127,
   "id": "af321f0c",
   "metadata": {},
   "outputs": [
    {
     "data": {
      "text/plain": [
       "3.892605685108029"
      ]
     },
     "execution_count": 127,
     "metadata": {},
     "output_type": "execute_result"
    }
   ],
   "source": [
    "test_rmse"
   ]
  },
  {
   "cell_type": "code",
   "execution_count": null,
   "id": "ee6f3e61",
   "metadata": {},
   "outputs": [],
   "source": []
  }
 ],
 "metadata": {
  "kernelspec": {
   "display_name": "Python 3 (ipykernel)",
   "language": "python",
   "name": "python3"
  },
  "language_info": {
   "codemirror_mode": {
    "name": "ipython",
    "version": 3
   },
   "file_extension": ".py",
   "mimetype": "text/x-python",
   "name": "python",
   "nbconvert_exporter": "python",
   "pygments_lexer": "ipython3",
   "version": "3.7.11"
  }
 },
 "nbformat": 4,
 "nbformat_minor": 5
}
